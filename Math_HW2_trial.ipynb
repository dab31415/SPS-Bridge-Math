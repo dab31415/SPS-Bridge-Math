{
  "nbformat": 4,
  "nbformat_minor": 0,
  "metadata": {
    "colab": {
      "name": "Math_HW2_trial.ipynb",
      "provenance": [],
      "collapsed_sections": [],
      "authorship_tag": "ABX9TyPwgVB/X12aHVExgtD47pW9",
      "include_colab_link": true
    },
    "kernelspec": {
      "name": "python3",
      "display_name": "Python 3"
    },
    "language_info": {
      "name": "python"
    }
  },
  "cells": [
    {
      "cell_type": "markdown",
      "metadata": {
        "id": "view-in-github",
        "colab_type": "text"
      },
      "source": [
        "<a href=\"https://colab.research.google.com/github/dab31415/SPS-Bridge-Math/blob/main/Math_HW2_trial.ipynb\" target=\"_parent\"><img src=\"https://colab.research.google.com/assets/colab-badge.svg\" alt=\"Open In Colab\"/></a>"
      ]
    },
    {
      "cell_type": "code",
      "metadata": {
        "colab": {
          "base_uri": "https://localhost:8080/",
          "height": 319
        },
        "id": "G7LcFUJ1t6Hh",
        "outputId": "3e1b13de-9ecc-4f3a-a2ce-5818863a0dc1"
      },
      "source": [
        "import numpy as np\n",
        "import sympy as sp\n",
        "\n",
        "def myDet(A):\n",
        "  rows, cols = A.shape\n",
        "\n",
        "  if rows != cols:\n",
        "    return 'matrix is not square'\n",
        "\n",
        "  if cols == 1:\n",
        "    return A[0,0]\n",
        "  elif cols == 2:\n",
        "    return A[0,0] * A[1,1] - A[1,0] * A[0,1]\n",
        "  else:\n",
        "    det = 0\n",
        "    for col in range(cols):\n",
        "      # generate submatrix\n",
        "      subA = np.hstack((A[1:,0:col],A[1:,col+1:]))\n",
        "\n",
        "      # alternate signs\n",
        "      if col % 2 == 0:\n",
        "        det += A[0,col] * myDet(subA)\n",
        "      else:\n",
        "        det -= A[0,col] * myDet(subA)\n",
        "    return det\n",
        "\n",
        "A = np.array([[1, 2, 3], [4, 5, 6], [7, 8, 9]])\n",
        "B = np.array([0, 0, 0])\n",
        "#X = np.linalg.inv(A).dot(B)\n",
        "\n",
        "#print(X)\n",
        "\n",
        "n = 3\n",
        "A = np.random.randint(0,10,(n,n))\n",
        "print('A = {0}'.format(A))\n",
        "\n",
        "B = sp.Matrix(A)\n",
        "lamda = sp.Symbol('lamda')\n",
        "for i in range(3):\n",
        "  B[i,i] -= lamda\n",
        "\n",
        "r = sp.solve(myDet(B))\n",
        "print('eigenvalues = {0}'.format(r))\n",
        "print('eigenvalues = {0}'.format(r))\n",
        "\n",
        "\n",
        "d = r * np.identity(n)\n",
        "print(d)\n",
        "\n",
        "\n"
      ],
      "execution_count": 16,
      "outputs": [
        {
          "output_type": "stream",
          "text": [
            "A = [[2 1 4]\n",
            " [4 1 6]\n",
            " [1 8 1]]\n",
            "eigenvalues = [4/3 + (-1/2 - sqrt(3)*I/2)*(1414/27 + sqrt(314157)*I/9)**(1/3) + 169/(9*(-1/2 - sqrt(3)*I/2)*(1414/27 + sqrt(314157)*I/9)**(1/3)), 4/3 + 169/(9*(-1/2 + sqrt(3)*I/2)*(1414/27 + sqrt(314157)*I/9)**(1/3)) + (-1/2 + sqrt(3)*I/2)*(1414/27 + sqrt(314157)*I/9)**(1/3), 4/3 + 169/(9*(1414/27 + sqrt(314157)*I/9)**(1/3)) + (1414/27 + sqrt(314157)*I/9)**(1/3)]\n"
          ],
          "name": "stdout"
        },
        {
          "output_type": "error",
          "ename": "TypeError",
          "evalue": "ignored",
          "traceback": [
            "\u001b[0;31m---------------------------------------------------------------------------\u001b[0m",
            "\u001b[0;31mTypeError\u001b[0m                                 Traceback (most recent call last)",
            "\u001b[0;32m<ipython-input-16-95cdf3c05bf4>\u001b[0m in \u001b[0;36m<module>\u001b[0;34m()\u001b[0m\n\u001b[1;32m     43\u001b[0m \u001b[0mprint\u001b[0m\u001b[0;34m(\u001b[0m\u001b[0;34m'eigenvalues = {0}'\u001b[0m\u001b[0;34m.\u001b[0m\u001b[0mformat\u001b[0m\u001b[0;34m(\u001b[0m\u001b[0mr\u001b[0m\u001b[0;34m)\u001b[0m\u001b[0;34m)\u001b[0m\u001b[0;34m\u001b[0m\u001b[0;34m\u001b[0m\u001b[0m\n\u001b[1;32m     44\u001b[0m \u001b[0;32mfor\u001b[0m \u001b[0mi\u001b[0m \u001b[0;32min\u001b[0m \u001b[0mrange\u001b[0m\u001b[0;34m(\u001b[0m\u001b[0mn\u001b[0m\u001b[0;34m)\u001b[0m\u001b[0;34m:\u001b[0m\u001b[0;34m\u001b[0m\u001b[0;34m\u001b[0m\u001b[0m\n\u001b[0;32m---> 45\u001b[0;31m   \u001b[0mr\u001b[0m\u001b[0;34m[\u001b[0m\u001b[0mi\u001b[0m\u001b[0;34m,\u001b[0m\u001b[0mi\u001b[0m\u001b[0;34m]\u001b[0m \u001b[0;34m=\u001b[0m \u001b[0mr\u001b[0m\u001b[0;34m[\u001b[0m\u001b[0mi\u001b[0m\u001b[0;34m,\u001b[0m\u001b[0mi\u001b[0m\u001b[0;34m]\u001b[0m\u001b[0;34m.\u001b[0m\u001b[0mevalf\u001b[0m\u001b[0;34m(\u001b[0m\u001b[0;34m)\u001b[0m\u001b[0;34m\u001b[0m\u001b[0;34m\u001b[0m\u001b[0m\n\u001b[0m\u001b[1;32m     46\u001b[0m \u001b[0mprint\u001b[0m\u001b[0;34m(\u001b[0m\u001b[0;34m'eigenvalues = {0}'\u001b[0m\u001b[0;34m.\u001b[0m\u001b[0mformat\u001b[0m\u001b[0;34m(\u001b[0m\u001b[0mr\u001b[0m\u001b[0;34m)\u001b[0m\u001b[0;34m)\u001b[0m\u001b[0;34m\u001b[0m\u001b[0;34m\u001b[0m\u001b[0m\n\u001b[1;32m     47\u001b[0m \u001b[0;34m\u001b[0m\u001b[0m\n",
            "\u001b[0;31mTypeError\u001b[0m: list indices must be integers or slices, not tuple"
          ]
        }
      ]
    }
  ]
}