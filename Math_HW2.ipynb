{
  "nbformat": 4,
  "nbformat_minor": 0,
  "metadata": {
    "colab": {
      "name": "Math HW2.ipynb",
      "provenance": [],
      "collapsed_sections": [],
      "authorship_tag": "ABX9TyNL3aLMfSPiu0mK4e15xfvp",
      "include_colab_link": true
    },
    "kernelspec": {
      "name": "python3",
      "display_name": "Python 3"
    },
    "language_info": {
      "name": "python"
    }
  },
  "cells": [
    {
      "cell_type": "markdown",
      "metadata": {
        "id": "view-in-github",
        "colab_type": "text"
      },
      "source": [
        "<a href=\"https://colab.research.google.com/github/dab31415/SPS-Bridge-Math/blob/main/Math_HW2.ipynb\" target=\"_parent\"><img src=\"https://colab.research.google.com/assets/colab-badge.svg\" alt=\"Open In Colab\"/></a>"
      ]
    },
    {
      "cell_type": "markdown",
      "metadata": {
        "id": "pAyYE5CKzhmX"
      },
      "source": [
        "#Math HW2<br>\n",
        "Donald Butler<br>\n",
        "08/01/2021"
      ]
    },
    {
      "cell_type": "code",
      "metadata": {
        "id": "16cw6frztUGQ"
      },
      "source": [
        "import sympy as sp\n",
        "import numpy as np"
      ],
      "execution_count": 94,
      "outputs": []
    },
    {
      "cell_type": "markdown",
      "metadata": {
        "id": "Lld-_xqv0lve"
      },
      "source": [
        "##Write a Python program to compute the eigenvalues and right eigenvectors of a given square array."
      ]
    },
    {
      "cell_type": "code",
      "metadata": {
        "colab": {
          "base_uri": "https://localhost:8080/"
        },
        "id": "o9S_XGnfzao-",
        "outputId": "036bd55c-3f93-4b6a-f61a-a63fe3e05b17"
      },
      "source": [
        "\n",
        "\n",
        "A = sp.Matrix([[1,2,3],[4,5,6],[7,8,9]])\n",
        "lamda = sp.Symbol('lamda')\n",
        "B = A - lamda * sp.Identity(3)\n",
        "# tried to use the myDet function, but generated error Mix of Matrix and Scalar symbols\n",
        "# det = myDet(B)\n",
        "\n",
        "# tried using sympy determinat function, but it didn't evaluate the lamda\n",
        "# sp.det(B)\n",
        "\n",
        "# this calcualtion works, but only allows 3x3 matrix\n",
        "det = sp.expand(B[0,0] * (B[1,1]*B[2,2]-B[1,2]*B[2,1]) - B[0,1] * (B[1,0]*B[2,2]-B[1,2]*B[2,0]) + B[0,2] * (B[1,0]*B[2,1]-B[1,1]*B[2,0]))\n",
        "print(det)\n",
        "eigenvalues = np.roots([-1,15,18,0])\n",
        "print(eigenvalues)\n",
        "\n"
      ],
      "execution_count": 95,
      "outputs": [
        {
          "output_type": "stream",
          "text": [
            "-lamda**3 + 15*lamda**2 + 18*lamda\n",
            "[16.11684397 -1.11684397  0.        ]\n"
          ],
          "name": "stdout"
        }
      ]
    },
    {
      "cell_type": "markdown",
      "metadata": {
        "id": "1RetYMtn0o9j"
      },
      "source": [
        "##Write a Python program to compute the factor of a given array by Singular Value Decomposition."
      ]
    },
    {
      "cell_type": "code",
      "metadata": {
        "id": "4jgqA7UBVxX4"
      },
      "source": [
        "# no idea what to do here. "
      ],
      "execution_count": 96,
      "outputs": []
    },
    {
      "cell_type": "markdown",
      "metadata": {
        "id": "ydKewsgL0vKW"
      },
      "source": [
        "##Write a Python program to compute the determinant of an array."
      ]
    },
    {
      "cell_type": "code",
      "metadata": {
        "colab": {
          "base_uri": "https://localhost:8080/"
        },
        "id": "9-ScuagBMK-c",
        "outputId": "81879f63-68c6-4005-9c18-ce81df0c2473"
      },
      "source": [
        "def myDet(A):\n",
        "  rows, cols = A.shape\n",
        "\n",
        "  if rows != cols:\n",
        "    return 'matrix is not square'\n",
        "\n",
        "  if cols == 1:\n",
        "    return A[0,0]\n",
        "  elif cols == 2:\n",
        "    return A[0,0] * A[1,1] - A[1,0] * A[0,1]\n",
        "  else:\n",
        "    det = 0\n",
        "    for col in range(cols):\n",
        "      # generate submatrix\n",
        "      subA = np.hstack((A[1:,0:col],A[1:,col+1:]))\n",
        "\n",
        "      # alternate signs\n",
        "      if col % 2 == 0:\n",
        "        det += A[0,col] * myDet(subA)\n",
        "      else:\n",
        "        det -= A[0,col] * myDet(subA)\n",
        "    return det\n",
        "\n",
        "A = np.matrix(np.random.randint(0,10,(2,3)))\n",
        "print(A)\n",
        "print('determinant = {0}'.format(myDet(A)))\n",
        "print()\n",
        "\n",
        "A = np.matrix(np.random.randint(0,10,(1,1)))\n",
        "print(A)\n",
        "print('determinant = {0}'.format(myDet(A)))\n",
        "print()\n",
        "\n",
        "A = np.matrix(np.random.randint(0,10,(2,2)))\n",
        "print(A)\n",
        "print('determinant = {0}'.format(myDet(A)))\n",
        "print()\n",
        "\n",
        "A = np.matrix(np.random.randint(0,10,(3,3)))\n",
        "print(A)\n",
        "print('determinant = {0}'.format(myDet(A)))\n",
        "print()\n",
        "\n",
        "A = np.matrix(np.random.randint(0,10,(4,4)))\n",
        "print(A)\n",
        "print('determinant = {0}'.format(myDet(A)))\n",
        "print()\n"
      ],
      "execution_count": 97,
      "outputs": [
        {
          "output_type": "stream",
          "text": [
            "[[4 9 9]\n",
            " [4 8 0]]\n",
            "determinant = matrix is not square\n",
            "\n",
            "[[7]]\n",
            "determinant = 7\n",
            "\n",
            "[[4 5]\n",
            " [4 4]]\n",
            "determinant = -4\n",
            "\n",
            "[[8 5 7]\n",
            " [7 4 0]\n",
            " [1 1 6]]\n",
            "determinant = 3\n",
            "\n",
            "[[0 6 1 9]\n",
            " [5 7 7 8]\n",
            " [6 0 8 2]\n",
            " [2 3 9 9]]\n",
            "determinant = 760\n",
            "\n"
          ],
          "name": "stdout"
        }
      ]
    }
  ]
}