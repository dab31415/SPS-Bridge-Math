{
  "nbformat": 4,
  "nbformat_minor": 0,
  "metadata": {
    "colab": {
      "name": "Math HW1.ipynb",
      "provenance": [],
      "collapsed_sections": [],
      "authorship_tag": "ABX9TyNvzBLeOFrRhDKdMT7GBJBo",
      "include_colab_link": true
    },
    "kernelspec": {
      "name": "python3",
      "display_name": "Python 3"
    },
    "language_info": {
      "name": "python"
    }
  },
  "cells": [
    {
      "cell_type": "markdown",
      "metadata": {
        "id": "view-in-github",
        "colab_type": "text"
      },
      "source": [
        "<a href=\"https://colab.research.google.com/github/dab31415/SPS-Bridge-Math/blob/main/Math_HW1.ipynb\" target=\"_parent\"><img src=\"https://colab.research.google.com/assets/colab-badge.svg\" alt=\"Open In Colab\"/></a>"
      ]
    },
    {
      "cell_type": "markdown",
      "metadata": {
        "id": "A197pM4Z2ijm"
      },
      "source": [
        "#Math HW1<br>\n",
        "Donald Butler<br>\n",
        "07/25/2021"
      ]
    },
    {
      "cell_type": "markdown",
      "metadata": {
        "id": "Anjzg6Ej21A7"
      },
      "source": [
        "##Chapter 1.  Programming Challenge 1 page 22, Even-Odd Vending Machine"
      ]
    },
    {
      "cell_type": "code",
      "metadata": {
        "colab": {
          "base_uri": "https://localhost:8080/"
        },
        "id": "EW2HQIjZ2hYu",
        "outputId": "bab9f824-ff0d-4e5c-92fc-cbc8d0af15c4"
      },
      "source": [
        "def vending_machine(n):\n",
        "  if n % 2 == 0:\n",
        "    print('even')\n",
        "  else:\n",
        "    print('odd')\n",
        "  \n",
        "  print(*range(n,n+20,2),sep=\", \")\n",
        "\n",
        "vending_machine(5)\n",
        "vending_machine(12)\n"
      ],
      "execution_count": 3,
      "outputs": [
        {
          "output_type": "stream",
          "text": [
            "odd\n",
            "5, 7, 9, 11, 13, 15, 17, 19, 21, 23\n",
            "even\n",
            "12, 14, 16, 18, 20, 22, 24, 26, 28, 30\n"
          ],
          "name": "stdout"
        }
      ]
    },
    {
      "cell_type": "markdown",
      "metadata": {
        "id": "v0VUNY3A58Rq"
      },
      "source": [
        "##Chapter 2.  Programming Challenge 2 page 55, Exploring a Quadratic Function Visually"
      ]
    },
    {
      "cell_type": "code",
      "metadata": {
        "colab": {
          "base_uri": "https://localhost:8080/",
          "height": 265
        },
        "id": "upD8nmAa6Emy",
        "outputId": "f8458971-9cae-4f32-ced3-c971fdb92c82"
      },
      "source": [
        "from pylab import plot, show \n",
        "\n",
        "x_values = range(-1,9)\n",
        "y_values = []\n",
        "for x in x_values:\n",
        "  y = x**2 + 2*x + 1\n",
        "  y_values.append(y)\n",
        "\n",
        "plot(x_values,y_values, marker='+')\n",
        "show()\n"
      ],
      "execution_count": 10,
      "outputs": [
        {
          "output_type": "display_data",
          "data": {
            "image/png": "[encoded data removed]",
            "text/plain": [
              "<Figure size 432x288 with 1 Axes>"
            ]
          },
          "metadata": {
            "tags": [],
            "needs_background": "light"
          }
        }
      ]
    },
    {
      "cell_type": "markdown",
      "metadata": {
        "id": "Emxu3ux_AipX"
      },
      "source": [
        "##Chapter 3.  Programming Challenge 2 page 89, Statistics Calculator"
      ]
    },
    {
      "cell_type": "code",
      "metadata": {
        "colab": {
          "base_uri": "https://localhost:8080/"
        },
        "id": "XbPRupmzAm0O",
        "outputId": "96eb2bda-e74a-4d8b-868c-c32ea5fb34fc"
      },
      "source": [
        "from collections import Counter\n",
        "\n",
        "def calculate_mean(numbers):\n",
        "  s = sum(numbers)\n",
        "  N = len(numbers)\n",
        "  mean = s/N\n",
        "  return mean\n",
        "\n",
        "def calculate_median(numbers):\n",
        "  N = len(numbers)\n",
        "  numbers.sort()\n",
        "  if N % 2 == 0:\n",
        "    median = (numbers[int(N/2)]+numbers[int(N/2)+1])/2\n",
        "  else:\n",
        "    median = numbers[int((N+1)/2)]\n",
        "  return median\n",
        "\n",
        "def calculate_mode(numbers):\n",
        "  c = Counter(numbers)\n",
        "  numbers_freq = c.most_common()\n",
        "  max_count = numbers_freq[0][1]\n",
        "  modes = []\n",
        "  for num in numbers_freq:\n",
        "    if num[1] == max_count:\n",
        "      modes.append(num[0])\n",
        "  return modes\n",
        "\n",
        "def find_differences(numbers):\n",
        "  mean = calculate_mean(numbers)\n",
        "  diff = []\n",
        "  for num in numbers:\n",
        "    diff.append(num-mean)\n",
        "  return diff\n",
        "\n",
        "def calculate_variance(numbers):\n",
        "  diff = find_differences(numbers)\n",
        "  squared_diff = []\n",
        "  for d in diff:\n",
        "    squared_diff.append(d**2)\n",
        "  sum_squared_diff = sum(squared_diff)\n",
        "  variance = sum_squared_diff/len(numbers)\n",
        "  return variance\n",
        "\n",
        "text_data = []\n",
        "with open('mydata.txt') as f:\n",
        "  for line in f:\n",
        "    text_data.append(int(line))\n",
        "\n",
        "text_data\n",
        "mean = calculate_mean(text_data)\n",
        "print('mean: {0}'.format(mean))\n",
        "\n",
        "median = calculate_median(text_data)\n",
        "print('median: {0}'.format(median))\n",
        "\n",
        "modes = calculate_mode(text_data)\n",
        "print('mode(s): {0}'.format(modes))\n",
        "\n",
        "variance = calculate_variance(text_data)\n",
        "print('variance: {0:.3f}'.format(variance))\n",
        "\n",
        "std = variance**.5\n",
        "print('standard deviation: {0:.3f}'.format(std))\n",
        "\n"
      ],
      "execution_count": 26,
      "outputs": [
        {
          "output_type": "stream",
          "text": [
            "mean: 477.75\n",
            "median: 501.5\n",
            "mode(s): [100, 500]\n",
            "variance: 141047.354\n",
            "standard deviation: 375.563\n"
          ],
          "name": "stdout"
        }
      ]
    },
    {
      "cell_type": "markdown",
      "metadata": {
        "id": "fVGCQemeOKI5"
      },
      "source": [
        "##Chapter 4.  Programming Challenge 4 page 117, Solving Single-Variable Inequalities"
      ]
    },
    {
      "cell_type": "code",
      "metadata": {
        "colab": {
          "base_uri": "https://localhost:8080/"
        },
        "id": "-62DuWTUONuU",
        "outputId": "a0b4f1e0-51b3-4f9f-aed5-b21f5291a928"
      },
      "source": [
        "from sympy import Symbol, sympify, solve, Poly, solve_poly_inequality, solve_rational_inequalities, solve_univariate_inequality\n",
        "from sympy.core.sympify import SympifyError\n",
        "\n",
        "def isolve(expr):\n",
        "  x = Symbol('x')\n",
        "  if expr.lhs.is_polynomial():\n",
        "    result = solve_poly_inequality(Poly(expr.lhs,x),expr.rel_op)\n",
        "  elif expr.lhs.is_rational_function():\n",
        "    numer, denom = expr.lhs.as_numer_denom()\n",
        "    result = solve_rational_inequalities([[((Poly(numer),Poly(denom)),expr.rel_op)]])\n",
        "  else:\n",
        "    result = solve_univariate_inequality(expr,x, relational=False)\n",
        "  return result\n",
        "\n",
        "try:\n",
        "  expr = sympify(input('Enter inequality expression: '))\n",
        "except SympifyError:\n",
        "  print('Invalid expression entered')\n",
        "else:\n",
        "  print(isolve(expr))\n"
      ],
      "execution_count": 59,
      "outputs": [
        {
          "output_type": "stream",
          "text": [
            "Enter inequality expression: sin(x)-cos(x)>.5\n",
            "other\n",
            "Interval.open(1.14676528730416, 0.424031039490741 + pi)\n"
          ],
          "name": "stdout"
        }
      ]
    },
    {
      "cell_type": "markdown",
      "metadata": {
        "id": "lLXye-uDcLKX"
      },
      "source": [
        "##Chapter 5.  Programming Challenge 2 page 143, Law of Large Numbers"
      ]
    },
    {
      "cell_type": "code",
      "metadata": {
        "colab": {
          "base_uri": "https://localhost:8080/"
        },
        "id": "Fkg_FPPrcSiv",
        "outputId": "93aaa7d6-2a87-4a2c-f846-76e12e08fa85"
      },
      "source": [
        "import random\n",
        "\n",
        "def roll():\n",
        "  return random.randint(1,6)\n",
        "\n",
        "def roll_trial(num_rolls):\n",
        "  sum_rolls = 0\n",
        "  for i in range(num_rolls):\n",
        "    sum_rolls = sum_rolls + roll()\n",
        "  return (sum_rolls/num_rolls)\n",
        "\n",
        "print('Expected value: {0}'.format(sum(range(1,7))/6))\n",
        "trials = [100,1000,10000,100000,500000]\n",
        "for trial in trials:\n",
        "  print('Trials: {0} Trial average {1:5f}'.format(trial,roll_trial(trial)))\n"
      ],
      "execution_count": 81,
      "outputs": [
        {
          "output_type": "stream",
          "text": [
            "Expected value: 3.5\n",
            "Trials: 100 Trial average 3.380000\n",
            "Trials: 1000 Trial average 3.434000\n",
            "Trials: 10000 Trial average 3.512700\n",
            "Trials: 100000 Trial average 3.501690\n",
            "Trials: 500000 Trial average 3.498158\n"
          ],
          "name": "stdout"
        }
      ]
    },
    {
      "cell_type": "markdown",
      "metadata": {
        "id": "ECAfgGIgmHEL"
      },
      "source": [
        "##Chapter 7.  Programming Challenge 2 page 205, Implement the Gradient Descent"
      ]
    },
    {
      "cell_type": "code",
      "metadata": {
        "colab": {
          "base_uri": "https://localhost:8080/",
          "height": 350
        },
        "id": "KCp2joSXmKCi",
        "outputId": "89857c45-a26f-4a50-8c4a-f7ba446309f9"
      },
      "source": [
        "from sympy import Symbol, sympify, Derivative, solve\n",
        "from sympy.core.sympify import SympifyError\n",
        "from pylab import plot, show\n",
        "\n",
        "def grad_decent(x0, f1x, x):\n",
        "  if not solve(f1x):\n",
        "    print('Cannot continue, solution for {0}=0 does not exist'.format(f1x))\n",
        "    return\n",
        "\n",
        "  epsilon = 1e-6\n",
        "  step_size = 1e-4\n",
        "  x_values = [x0]\n",
        "  while (len(x_values)) < 2 or (abs(x_values[len(x_values)-2] - x_values[len(x_values)-1]) > epsilon):\n",
        "    x_values.append(x_values[len(x_values)-1] - step_size * f1x.subs({x:x_values[len(x_values)-1]}).evalf())\n",
        "  return x_values\n",
        "\n",
        "f = input('Enter a function in one variable: ')\n",
        "var = input('Enter the variable to differentiate with respect to: ')\n",
        "var0 = float(input('Enter the inital value of the variable: '))\n",
        "\n",
        "try:\n",
        "  f = sympify(f)\n",
        "except SympifyError:\n",
        "  print('Invalid function entered')\n",
        "else:\n",
        "  var = Symbol(var)\n",
        "  d = Derivative(f,var).doit()\n",
        "  var_min = grad_decent(var0,d,var)\n",
        "  if var_min:\n",
        "    print('{0}: {1}'.format(var.name, var_min[len(var_min)-1]))\n",
        "    print('Minimum value: {0}'.format(f.subs({var:var_min[len(var_min)-1]})))\n",
        "\n",
        "    y_values = []\n",
        "    for x_value in var_min:\n",
        "      y_values.append(f.subs({var:x_value}).evalf())\n",
        "    plot(var_min,y_values)\n",
        "    show()\n"
      ],
      "execution_count": 96,
      "outputs": [
        {
          "output_type": "stream",
          "text": [
            "Enter a function in one variable: 3*x**4-2*x**3+3*x**2-7*x\n",
            "Enter the variable to differentiate with respect to: x\n",
            "Enter the inital value of the variable: 1\n",
            "x: 0.795135273470865\n",
            "Minimum value: -3.47547677555618\n"
          ],
          "name": "stdout"
        },
        {
          "output_type": "display_data",
          "data": {
            "image/png": "[encoded data removed]",
            "text/plain": [
              "<Figure size 432x288 with 1 Axes>"
            ]
          },
          "metadata": {
            "tags": [],
            "needs_background": "light"
          }
        }
      ]
    }
  ]
}